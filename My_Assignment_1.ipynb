{
  "nbformat": 4,
  "nbformat_minor": 0,
  "metadata": {
    "colab": {
      "name": "My Assignment 1",
      "provenance": [],
      "authorship_tag": "ABX9TyNJW7M7b81rtrFCWY0K40n6",
      "include_colab_link": true
    },
    "kernelspec": {
      "name": "python3",
      "display_name": "Python 3"
    },
    "language_info": {
      "name": "python"
    }
  },
  "cells": [
    {
      "cell_type": "markdown",
      "metadata": {
        "id": "view-in-github",
        "colab_type": "text"
      },
      "source": [
        "<a href=\"https://colab.research.google.com/github/Mahesh259590/Basic-ML/blob/main/My_Assignment_1.ipynb\" target=\"_parent\"><img src=\"https://colab.research.google.com/assets/colab-badge.svg\" alt=\"Open In Colab\"/></a>"
      ]
    },
    {
      "cell_type": "markdown",
      "metadata": {
        "id": "phbZQEZU9FsQ"
      },
      "source": [
        "Python program to run Area of Triangle"
      ]
    },
    {
      "cell_type": "code",
      "metadata": {
        "colab": {
          "base_uri": "https://localhost:8080/"
        },
        "id": "uXi6dSSp9GBD",
        "outputId": "410ef17f-f0a5-4960-809d-9a51d2671d34"
      },
      "source": [
        "a = float(input('Enter first side: '))  \n",
        "b = float(input('Enter second side: '))  \n",
        "c = float(input('Enter third side: '))  \n",
        "s = (a + b + c) / 2   \n",
        "area = (s*(s-a)*(s-b)*(s-c)) ** 0.5  \n",
        "print('The area of the triangle is %0.2f' %area)   "
      ],
      "execution_count": null,
      "outputs": [
        {
          "output_type": "stream",
          "text": [
            "Enter first side: 3\n",
            "Enter second side: 3\n",
            "Enter third side: 3\n",
            "The area of the triangle is 3.90\n"
          ],
          "name": "stdout"
        }
      ]
    },
    {
      "cell_type": "markdown",
      "metadata": {
        "id": "dHn_RAho9g2f"
      },
      "source": [
        "Python program to know weather the given number is a palindrome or not\n"
      ]
    },
    {
      "cell_type": "code",
      "metadata": {
        "id": "04CHBX3M90tU"
      },
      "source": [
        "num=int(input(\"Enter a number:\"))\n",
        "temp=num\n",
        "rev=0\n",
        "while(num>0):\n",
        "    dig=num%10\n",
        "    rev=rev*10+dig\n",
        "    num=num//10\n",
        "if(temp==rev):\n",
        "    print(\"The number is palindrome!\")\n",
        "else:\n",
        "    print(\"Not a palindrome!\")"
      ],
      "execution_count": null,
      "outputs": []
    },
    {
      "cell_type": "markdown",
      "metadata": {
        "id": "F3OOBS9V-QoJ"
      },
      "source": [
        "Python program to convert Miles to Kilometers"
      ]
    },
    {
      "cell_type": "code",
      "metadata": {
        "colab": {
          "base_uri": "https://localhost:8080/"
        },
        "id": "IADykDFj-u2l",
        "outputId": "ce5940ba-d5a9-4b4a-85c1-a59cb1ed6005"
      },
      "source": [
        "miles = float(input(\"Please enter miles:\"))\n",
        "kilometers = miles * 1.6\n",
        "print(kilometers, \" Kilometers\")"
      ],
      "execution_count": null,
      "outputs": [
        {
          "output_type": "stream",
          "text": [
            "Please enter miles:22\n",
            "35.2  Kilometers\n"
          ],
          "name": "stdout"
        }
      ]
    }
  ]
}